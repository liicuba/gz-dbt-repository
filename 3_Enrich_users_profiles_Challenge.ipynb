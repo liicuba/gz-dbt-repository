{
  "cells": [
    {
      "cell_type": "markdown",
      "metadata": {
        "id": "view-in-github",
        "colab_type": "text"
      },
      "source": [
        "<a href=\"https://colab.research.google.com/github/liicuba/gz-dbt-repository/blob/main/3_Enrich_users_profiles_Challenge.ipynb\" target=\"_parent\"><img src=\"https://colab.research.google.com/assets/colab-badge.svg\" alt=\"Open In Colab\"/></a>"
      ]
    },
    {
      "cell_type": "markdown",
      "metadata": {
        "id": "fhlLb9BKgfgp"
      },
      "source": [
        " ![Emil](data:image/png;base64,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)"
      ]
    },
    {
      "cell_type": "markdown",
      "metadata": {
        "id": "b8BkIRvbgfgq"
      },
      "source": [
        "# Enrich users profiles"
      ]
    },
    {
      "cell_type": "markdown",
      "metadata": {
        "id": "TC_HYHVy1oET"
      },
      "source": [
        "In this challenge, you will explore a dataset of companies and extract companies information from it!\n"
      ]
    },
    {
      "cell_type": "markdown",
      "metadata": {
        "id": "XuVPxLBA1oEU"
      },
      "source": [
        "## General data exploration\n",
        "\n",
        "\n"
      ]
    },
    {
      "cell_type": "markdown",
      "source": [],
      "metadata": {
        "id": "teSE2voM20Gi"
      }
    },
    {
      "cell_type": "markdown",
      "metadata": {
        "id": "EtDz6lJigfig"
      },
      "source": [
        "Import the [`microsoft_companies.json`](https://drive.google.com/\n",
        "\n",
        "---\n",
        "\n",
        "file/d/1Zrja9KY-05u8XsGfK-P97zGa-NyipS49/view?usp=sharing) file into Colab.\n",
        "\n",
        "Run the code below to get the results in the `microsoft_companies` variable. We will study on Day 3 how to load data in Python."
      ]
    },
    {
      "cell_type": "code",
      "execution_count": null,
      "metadata": {
        "id": "dphPiTGhgfih"
      },
      "outputs": [],
      "source": [
        "import json\n",
        "\n",
        "with open('/content/microsoft_companies.json') as json_file:\n",
        "    microsoft_companies = json.load(json_file)\n",
        "\n"
      ]
    },
    {
      "cell_type": "markdown",
      "metadata": {
        "id": "b2YGCtehgfij"
      },
      "source": [
        "What is the type of the `microsoft_companies` variable?\n",
        "\n",
        "---\n",
        "\n",
        "\n",
        "\n",
        "*   Item da lista\n",
        "*   Item da lista\n",
        "\n",
        "\n",
        "\n"
      ]
    },
    {
      "cell_type": "code",
      "execution_count": null,
      "metadata": {
        "ExecuteTime": {
          "end_time": "2024-02-13T17:14:30.628030Z",
          "start_time": "2024-02-13T17:14:30.608615Z"
        },
        "id": "kUrUC6dZgfik",
        "colab": {
          "base_uri": "https://localhost:8080/"
        },
        "outputId": "fee0f927-a17f-4424-c42d-cf4f823a25db"
      },
      "outputs": [
        {
          "output_type": "stream",
          "name": "stdout",
          "text": [
            "Data type of microsoft_companies is: <class 'list'>\n"
          ]
        }
      ],
      "source": [
        "#your code here\n",
        "\n",
        "#import libary jason\n",
        "import json\n",
        "\n",
        "#uploading the jason file on the project\n",
        "with open('/content/microsoft_companies.json') as json_file:\n",
        "    microsoft_companies = json.load(json_file)\n",
        "\n",
        "#finding the type of the variable\n",
        "type_of_variable = type (microsoft_companies)\n",
        "print(f'Data type of microsoft_companies is: {type_of_variable}')  # Output: Data type of microsoft_companies is: <class 'list'>"
      ]
    },
    {
      "cell_type": "markdown",
      "metadata": {
        "id": "m1Pr0zNcgfil"
      },
      "source": [
        "How many companies are in this list?"
      ]
    },
    {
      "cell_type": "code",
      "execution_count": null,
      "metadata": {
        "ExecuteTime": {
          "end_time": "2024-02-13T17:15:18.505143Z",
          "start_time": "2024-02-13T17:15:18.480746Z"
        },
        "id": "DmuqK9XVgfim",
        "colab": {
          "base_uri": "https://localhost:8080/"
        },
        "outputId": "2a3fd4a7-bd46-4efa-e9aa-611de570bba1"
      },
      "outputs": [
        {
          "output_type": "stream",
          "name": "stdout",
          "text": [
            "Number of companies: 301\n"
          ]
        }
      ],
      "source": [
        "#your code here\n",
        "\n",
        "# Count the number of cities\n",
        "number_of_companies = len(microsoft_companies)\n",
        "\n",
        "print(f'Number of companies: {number_of_companies}')  # Output: Number of companies: 301"
      ]
    },
    {
      "cell_type": "markdown",
      "metadata": {
        "id": "kWD81Yr-1oEX"
      },
      "source": [
        "## Specific data exploration\n"
      ]
    },
    {
      "cell_type": "markdown",
      "metadata": {
        "id": "Ar3vnEkygfin"
      },
      "source": [
        "Look at the first item on this list. What type is it?\n"
      ]
    },
    {
      "cell_type": "code",
      "execution_count": null,
      "metadata": {
        "ExecuteTime": {
          "end_time": "2024-02-13T17:23:21.616512Z",
          "start_time": "2024-02-13T17:23:21.608099Z"
        },
        "id": "79SP7qe4gfin",
        "colab": {
          "base_uri": "https://localhost:8080/"
        },
        "outputId": "fdd55304-e022-44ba-eff1-885c02b90d47"
      },
      "outputs": [
        {
          "output_type": "stream",
          "name": "stdout",
          "text": [
            "Length of list1: 301\n",
            "First element of list1: {'datasetid': 'companies-on-linkedin', 'recordid': 'c4d310fc0f0f277e574e20f5e2185d4765a1ab3f', 'fields': {'total_employee_estimate': 44, 'size_range': '11 - 50', 'industry': 'computer games', 'linkedin_url': 'https://www.linkedin.com/company/develop-magazine', 'domain0': 'https://www.develop-online.net', 'current_employee_estimate': 6, 'name': 'microsoft'}, 'record_timestamp': '2019-06-03T09:35:00+02:00'}\n",
            "Data type of the first lists item is: <class 'dict'>\n"
          ]
        }
      ],
      "source": [
        "#your code here\n",
        "\n",
        "import json\n",
        "\n",
        "#uploading the jason file on the project\n",
        "with open('/content/microsoft_companies.json') as json_file:\n",
        "    microsoft_companies = json.load(json_file)\n",
        "\n",
        "\n",
        "#displaying list size\n",
        "print(\"Length of list1:\", len(microsoft_companies)) #output: 301\n",
        "\n",
        "#display the first element of the list list_example\n",
        "print(\"First element of list1:\", microsoft_companies[0]) #output: a dictionary\n",
        "\n",
        "#finding the type of the variable\n",
        "type_of_variable = type (microsoft_companies[0])\n",
        "print(f'Data type of the first lists item is: {type_of_variable}') #output: Data type of the first lists item is: <class 'dict'>"
      ]
    },
    {
      "cell_type": "code",
      "execution_count": null,
      "metadata": {
        "ExecuteTime": {
          "end_time": "2024-02-13T17:23:19.897965Z",
          "start_time": "2024-02-13T17:23:19.889758Z"
        },
        "id": "aF6Q0pkl1oEX",
        "colab": {
          "base_uri": "https://localhost:8080/"
        },
        "outputId": "871c22d5-ca67-4c64-b250-4f29033c6171"
      },
      "outputs": [
        {
          "output_type": "stream",
          "name": "stdout",
          "text": [
            "Company Name: microsoft\n",
            "Industry: computer games\n",
            "Domain: https://www.develop-online.net\n",
            "Total Number of Employees: 6\n"
          ]
        }
      ],
      "source": [
        "\n",
        "import json\n",
        "\n",
        "#uploading the jason file on the project\n",
        "with open('/content/microsoft_companies.json') as json_file:\n",
        "    microsoft_companies = json.load(json_file)\n",
        "\n",
        "# Access the first item in the list\n",
        "first_company = microsoft_companies[0]\n",
        "\n",
        "# Display the specific details of the first item\n",
        "name = first_company[\"fields\"]['name']\n",
        "industry = first_company[\"fields\"][\"industry\"]\n",
        "domain = first_company[\"fields\"][\"domain0\"]\n",
        "current_employee_estimate = first_company[\"fields\"][\"current_employee_estimate\"]\n",
        "\n",
        "# Print microsoft_companies first item details\n",
        "print(f\"Company Name: {name}\")\n",
        "print(f\"Industry: {industry}\")\n",
        "print(f\"Domain: {domain}\")\n",
        "print(f\"Total Number of Employees: {current_employee_estimate}\")\n",
        "\n",
        "\n"
      ]
    },
    {
      "cell_type": "markdown",
      "metadata": {
        "id": "3J2GJQBzgfip"
      },
      "source": [
        "For this first item, display the company name, industry, domain and total number of employees."
      ]
    },
    {
      "cell_type": "markdown",
      "metadata": {
        "id": "qz7QgDnbgfir"
      },
      "source": [
        "Do you think that this company named \"microsoft\" is the giant American company?"
      ]
    },
    {
      "cell_type": "markdown",
      "metadata": {
        "id": "dznbZ6sL1oEX"
      },
      "source": [
        "> **Your Answer Here (Double click)**\n"
      ]
    },
    {
      "cell_type": "markdown",
      "metadata": {
        "id": "hPQFh5_rgfis"
      },
      "source": [
        "Obviously not ! It seems there are homonyms in our list.\n",
        "\n",
        "Create a new empty list and add all the companies whose names are exactly \"microsoft\".\n",
        "\n",
        "To do this, you will need to loop through all the companies and use a condition to check that their names are indeed \"microsoft\". If this is the case, the company information will be added to the empty list.\n",
        "\n",
        "How many are there?"
      ]
    },
    {
      "cell_type": "code",
      "execution_count": null,
      "metadata": {
        "ExecuteTime": {
          "end_time": "2024-02-13T17:27:50.560227Z",
          "start_time": "2024-02-13T17:27:50.549510Z"
        },
        "id": "aPt7PEYugfit",
        "colab": {
          "base_uri": "https://localhost:8080/"
        },
        "outputId": "a2a05f2b-0235-4d32-d289-2b315d21a9cb"
      },
      "outputs": [
        {
          "output_type": "stream",
          "name": "stdout",
          "text": [
            "Number of companies named 'microsoft': 6\n"
          ]
        }
      ],
      "source": [
        "filtered_companies = []\n",
        "\n",
        "# Filter companies named \"microsoft\" (case-insensitive)\n",
        "for company in microsoft_companies:\n",
        "  company_name = company.get(\"fields\", {}).get(\"name\")  # Handle potential missing \"fields\" key\n",
        "  if company_name and company_name.lower() == \"microsoft\":  # Case-insensitive match\n",
        "    filtered_companies.append(company)\n",
        "\n",
        "# Print the number of companies named \"microsoft\"\n",
        "print(f\"Number of companies named 'microsoft': {len(filtered_companies)}\")"
      ]
    },
    {
      "cell_type": "markdown",
      "metadata": {
        "id": "V6lW98xtgfiw"
      },
      "source": [
        "Among the results obtained, do you see the giant American company?\n",
        "\n",
        "You can run the code below and then use the `pprint` function to indent the results. It works like the `print` function with improved readability."
      ]
    },
    {
      "cell_type": "code",
      "execution_count": null,
      "metadata": {
        "ExecuteTime": {
          "end_time": "2024-02-13T17:28:11.320206Z",
          "start_time": "2024-02-13T17:28:11.309457Z"
        },
        "id": "GD1Ysk9yeY7T",
        "colab": {
          "base_uri": "https://localhost:8080/"
        },
        "outputId": "5b1a7ff1-df7c-414e-9b5d-aa82a5d1d806"
      },
      "outputs": [
        {
          "output_type": "stream",
          "name": "stdout",
          "text": [
            "[{'datasetid': 'companies-on-linkedin',\n",
            "  'fields': {'current_employee_estimate': 6,\n",
            "             'domain0': 'https://www.develop-online.net',\n",
            "             'industry': 'computer games',\n",
            "             'linkedin_url': 'https://www.linkedin.com/company/develop-magazine',\n",
            "             'name': 'microsoft',\n",
            "             'size_range': '11 - 50',\n",
            "             'total_employee_estimate': 44},\n",
            "  'record_timestamp': '2019-06-03T09:35:00+02:00',\n",
            "  'recordid': 'c4d310fc0f0f277e574e20f5e2185d4765a1ab3f'},\n",
            " {'datasetid': 'companies-on-linkedin',\n",
            "  'fields': {'country': 'united states',\n",
            "             'current_employee_estimate': 116196,\n",
            "             'domain0': 'https://www.microsoft.com',\n",
            "             'industry': 'computer software',\n",
            "             'linkedin_url': 'https://www.linkedin.com/company/microsoft',\n",
            "             'locality': 'redmond,washington,united states',\n",
            "             'name': 'microsoft',\n",
            "             'size_range': '10001+',\n",
            "             'total_employee_estimate': 276983,\n",
            "             'year_founded': '1975'},\n",
            "  'record_timestamp': '2019-06-03T09:35:00+02:00',\n",
            "  'recordid': 'd8611a51def434f1049b899a99d8a589fbb7b9c1'},\n",
            " {'datasetid': 'companies-on-linkedin',\n",
            "  'fields': {'current_employee_estimate': 1,\n",
            "             'domain0': 'https://www.',\n",
            "             'industry': 'computer software',\n",
            "             'linkedin_url': 'https://www.linkedin.com/company/microsoft-cyprus',\n",
            "             'name': 'microsoft',\n",
            "             'size_range': '1 - 10',\n",
            "             'total_employee_estimate': 5,\n",
            "             'year_founded': '1975'},\n",
            "  'record_timestamp': '2019-06-03T09:35:00+02:00',\n",
            "  'recordid': 'a5140838fb9ffcda43fa4b8f35cd13ed2abe67f7'},\n",
            " {'datasetid': 'companies-on-linkedin',\n",
            "  'fields': {'current_employee_estimate': 6,\n",
            "             'domain0': 'https://www.',\n",
            "             'industry': 'computer software',\n",
            "             'linkedin_url': 'https://www.linkedin.com/company/microsoft-2',\n",
            "             'name': 'microsoft',\n",
            "             'size_range': '11 - 50',\n",
            "             'total_employee_estimate': 9},\n",
            "  'record_timestamp': '2019-06-03T09:35:00+02:00',\n",
            "  'recordid': 'be50e923df54801d559eb644eac1580f92052573'},\n",
            " {'datasetid': 'companies-on-linkedin',\n",
            "  'fields': {'current_employee_estimate': 0,\n",
            "             'domain0': 'https://www.microsoftaaas.com',\n",
            "             'industry': 'management consulting',\n",
            "             'linkedin_url': 'https://www.linkedin.com/company/microsoft-alliance-as-a-service',\n",
            "             'name': 'microsoft',\n",
            "             'size_range': '1 - 10',\n",
            "             'total_employee_estimate': 3,\n",
            "             'year_founded': '2012'},\n",
            "  'record_timestamp': '2019-06-03T09:35:00+02:00',\n",
            "  'recordid': '998d5e4e4bebfdb1a2af75f3b3014ddb1377c736'},\n",
            " {'datasetid': 'companies-on-linkedin',\n",
            "  'fields': {'country': 'india',\n",
            "             'current_employee_estimate': 1,\n",
            "             'domain0': 'https://www.maziksolutions.com',\n",
            "             'industry': 'information technology and services',\n",
            "             'linkedin_url': 'https://www.linkedin.com/company/mazik-solutions-pvt-ltd',\n",
            "             'name': 'microsoft',\n",
            "             'size_range': '1 - 10',\n",
            "             'total_employee_estimate': 4,\n",
            "             'year_founded': '2010'},\n",
            "  'record_timestamp': '2019-06-03T09:35:00+02:00',\n",
            "  'recordid': '694e5569ffadbee848f1c3ab7a180f158a5506be'}]\n"
          ]
        }
      ],
      "source": [
        "#function to indent the results printed\n",
        "from pprint import pprint\n",
        "pprint(filtered_companies)"
      ]
    },
    {
      "cell_type": "markdown",
      "metadata": {
        "id": "Aj6R6G-Ggfiw"
      },
      "source": [
        "> **Your Answer Here (Double click)**\n",
        "\n",
        "{'datasetid': 'companies-on-linkedin',\n",
        "  'fields': {'country': 'united states',\n",
        "             'current_employee_estimate': 116196,\n",
        "             'domain0': 'https://www.microsoft.com',\n",
        "             'industry': 'computer software',\n",
        "             'linkedin_url': 'https://www.linkedin.com/company/microsoft',\n",
        "             'locality': 'redmond,washington,united states',\n",
        "             'name': 'microsoft',\n",
        "             'size_range': '10001+',\n",
        "             'total_employee_estimate': 276983,\n",
        "             'year_founded': '1975'},\n",
        "  'record_timestamp': '2019-06-03T09:35:00+02:00',\n",
        "  'recordid': 'd8611a51def434f1049b899a99d8a589fbb7b9c1'},\n"
      ]
    },
    {
      "cell_type": "markdown",
      "metadata": {
        "id": "rDJE5hbg1oEY"
      },
      "source": [
        "## Cleaning the data\n"
      ]
    },
    {
      "cell_type": "markdown",
      "metadata": {
        "id": "fvIkd6lH1oEY"
      },
      "source": [
        "### Encoding categories"
      ]
    },
    {
      "cell_type": "markdown",
      "metadata": {
        "id": "GbBprzd6gfiw"
      },
      "source": [
        "To facilitate the work of the other teams, we will translate the number of employees into categories. To do this, we will use the following correspondences:\n",
        "   - less than 5: \"small business\"\n",
        "   - from 5 to 30: \"startup\"\n",
        "   - from 30 to 200: \"scaleup\"\n",
        "   - from 200 to 1000: \"big companies\"\n",
        "   - more than 1000: \"very large companies\"\n",
        "\n",
        "\n",
        "Write a function that takes one argument, the number of employees, and returns the corresponding category.\n",
        "\n",
        "⚠️ Don't forget to return the corresponding category at the end of your function using the **return** keyword. \\\n",
        "Look carefully at the syntax of functions in the lecture.\n"
      ]
    },
    {
      "cell_type": "code",
      "execution_count": null,
      "metadata": {
        "ExecuteTime": {
          "end_time": "2024-02-13T17:36:19.046695Z",
          "start_time": "2024-02-13T17:36:19.030513Z"
        },
        "id": "Qbm_ZwkGgfiw",
        "colab": {
          "base_uri": "https://localhost:8080/"
        },
        "outputId": "54b8b1f7-ed93-4d69-be00-6505bbbcbb0c"
      },
      "outputs": [
        {
          "output_type": "stream",
          "name": "stdout",
          "text": [
            "Employee Category: scaleup\n"
          ]
        }
      ],
      "source": [
        "def from_nb_employee_to_category(total_employee):\n",
        "\n",
        "\n",
        "  # to be completed\n",
        "  if total_employee < 5:\n",
        "    return \"small business\"\n",
        "  elif total_employee < 30:\n",
        "    return \"startup\"\n",
        "  elif total_employee < 200:\n",
        "    return \"scaleup\"\n",
        "  elif total_employee < 1000:\n",
        "    return \"big companies\"\n",
        "  else:\n",
        "    return \"very large companies\"\n",
        "\n",
        "total_employee = 199\n",
        "\n",
        "category = from_nb_employee_to_category(total_employee)\n",
        "\n",
        "print(f\"Employee Category: {category}\")"
      ]
    },
    {
      "cell_type": "markdown",
      "metadata": {
        "id": "nO5Dcf1j1oEZ"
      },
      "source": [
        "### Transform the data\n"
      ]
    },
    {
      "cell_type": "markdown",
      "metadata": {
        "id": "PXVr563egfiy"
      },
      "source": [
        "We will go through all the companies in the initial file.\n",
        "\n",
        "We will create an empty list that will record all the information about each company as we go along.\n",
        "\n",
        "For each company, store in a **dictionary** the company's name, industry, domain and company category (in relation to its number of employees, using your previous function). Then add this dictionary to your list.\n",
        "\n",
        "In the end, your list will contain all the dictionaries of all the companies."
      ]
    },
    {
      "cell_type": "code",
      "execution_count": null,
      "metadata": {
        "ExecuteTime": {
          "end_time": "2024-02-13T17:41:05.597540Z",
          "start_time": "2024-02-13T17:41:05.580303Z"
        },
        "id": "uvyBEc4Mgfiy"
      },
      "outputs": [],
      "source": [
        "#uploading the jason file on the project\n",
        "with open('/content/microsoft_companies.json') as json_file:\n",
        "    microsoft_companies = json.load(json_file)\n",
        "\n",
        "# Create an empty list to store company information dictionaries\n",
        "microsoft_companies_clean = []\n",
        "\n",
        "# Process each company\n",
        "for company_info in microsoft_companies:\n",
        "  # Access company information\n",
        "  company_name = company.get(\"fields\", {}).get(\"name\")\n",
        "  industry = company.get(\"fields\", {}).get(\"industry\")\n",
        "  domain = company.get(\"fields\", {}).get(\"domain0\")\n",
        "  employee_count = company.get(\"fields\", {}).get(\"current_employee_estimate\")\n",
        "\n",
        "  # Get employee category\n",
        "  if employee_count is not None:\n",
        "    category = get_employee_category(employee_count)\n",
        "  else:\n",
        "    category = \"Employee count information not available\"\n",
        "\n",
        "  # Create company information dictionary and add it to the list\n",
        "  company_data = {\n",
        "      \"name\": company_name,\n",
        "      \"industry\": industry,\n",
        "      \"domain\": domain,\n",
        "      \"employee_category\": category\n",
        "  }\n",
        "  all_companies.append(company_data)\n",
        "\n",
        "# Print information about all companies (optional)\n",
        "print(\"\\nInformation about all companies:\")\n",
        "for company in all_companies:\n",
        "  print(f\"\\n  Company Name: {company['name']}\")\n",
        "  print(f\"  Industry: {company['industry']}\")\n",
        "  print(f\"  Domain: {company['domain']}\")\n",
        "  print(f\"  Employee Category: {company['employee_category']}\")#PAREI AQUI!!!!!!!"
      ]
    },
    {
      "cell_type": "markdown",
      "metadata": {
        "id": "Sj21qz_Ngfi2"
      },
      "source": [
        "Use the code below to create a `DataFrame` from it. We will learn more about this Python object in future lectures."
      ]
    },
    {
      "cell_type": "code",
      "execution_count": null,
      "metadata": {
        "ExecuteTime": {
          "end_time": "2024-02-13T17:41:19.985552Z",
          "start_time": "2024-02-13T17:41:17.548748Z"
        },
        "id": "OoQHcdsagfi2"
      },
      "outputs": [],
      "source": [
        "import pandas as pd\n",
        "\n",
        "df_microsoft_companies_clean = pd.DataFrame(microsoft_companies_clean)\n",
        "df_microsoft_companies_clean\n"
      ]
    },
    {
      "cell_type": "markdown",
      "metadata": {
        "id": "ubSWlCXKgfi5"
      },
      "source": [
        "Congratulations, you just created your first DataFrame! 🚀"
      ]
    },
    {
      "cell_type": "markdown",
      "metadata": {
        "id": "_GvO8zXi1oEZ"
      },
      "source": [
        "### More accurate cleaning\n"
      ]
    },
    {
      "cell_type": "markdown",
      "metadata": {
        "id": "uf46hSSFN-Rb"
      },
      "source": [
        "What do you notice about `domains` column ?\n",
        "\n",
        "When no domain has been found, the API outputs \"https://www.\".\n",
        "\n",
        "This piece of information is not relevant to other teams. Modify your code to delete that.\n",
        "\n",
        "\n",
        "<details>\n",
        "    <summary>Hint 🔍</summary>\n",
        "One way to do so is to not store this key/value pair when iterating over all companies.\n",
        "</details>"
      ]
    },
    {
      "cell_type": "code",
      "execution_count": null,
      "metadata": {
        "ExecuteTime": {
          "end_time": "2024-02-13T17:45:46.084987Z",
          "start_time": "2024-02-13T17:45:46.065388Z"
        },
        "id": "daC2xYWI1oEZ"
      },
      "outputs": [],
      "source": [
        "#your code here"
      ]
    },
    {
      "cell_type": "markdown",
      "metadata": {
        "id": "nLobPtA_nXQn"
      },
      "source": [
        "Run the code below to export the clean dataframe to a CSV. We will learn more about the `to_csv()`function in future lectures.\n"
      ]
    },
    {
      "cell_type": "code",
      "execution_count": null,
      "metadata": {
        "ExecuteTime": {
          "end_time": "2024-02-04T19:13:50.700814Z",
          "start_time": "2024-02-04T19:13:50.675223Z"
        },
        "id": "AG2F2BFZnWXY"
      },
      "outputs": [],
      "source": [
        "df_microsoft_companies_clean.to_csv(\"microsoft_companies.csv\",index=False)"
      ]
    }
  ],
  "metadata": {
    "colab": {
      "provenance": [],
      "include_colab_link": true
    },
    "kernelspec": {
      "display_name": "Python 3 (ipykernel)",
      "language": "python",
      "name": "python3"
    },
    "language_info": {
      "codemirror_mode": {
        "name": "ipython",
        "version": 3
      },
      "file_extension": ".py",
      "mimetype": "text/x-python",
      "name": "python",
      "nbconvert_exporter": "python",
      "pygments_lexer": "ipython3",
      "version": "3.10.6"
    },
    "toc": {
      "base_numbering": 1,
      "nav_menu": {},
      "number_sections": true,
      "sideBar": true,
      "skip_h1_title": false,
      "title_cell": "Table of Contents",
      "title_sidebar": "Contents",
      "toc_cell": false,
      "toc_position": {},
      "toc_section_display": true,
      "toc_window_display": false
    }
  },
  "nbformat": 4,
  "nbformat_minor": 0
}