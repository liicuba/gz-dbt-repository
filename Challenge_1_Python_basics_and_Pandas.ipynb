{
  "cells": [
    {
      "cell_type": "markdown",
      "metadata": {
        "id": "view-in-github",
        "colab_type": "text"
      },
      "source": [
        "<a href=\"https://colab.research.google.com/github/liicuba/gz-dbt-repository/blob/main/Challenge_1_Python_basics_and_Pandas.ipynb\" target=\"_parent\"><img src=\"https://colab.research.google.com/assets/colab-badge.svg\" alt=\"Open In Colab\"/></a>"
      ]
    },
    {
      "cell_type": "markdown",
      "id": "9936a576",
      "metadata": {
        "id": "9936a576"
      },
      "source": [
        "## Exercise 1: Data Analysis and Manipulation with Pandas\n",
        "In this exercise, we will be working with two datasets: sales data and customer data. We will use pandas to perform various data analysis and manipulation tasks."
      ]
    },
    {
      "cell_type": "markdown",
      "id": "0a46ebb5",
      "metadata": {
        "id": "0a46ebb5"
      },
      "source": [
        "### Part 1: Loading Data\n",
        "1. Load the sales data using pandas read_csv function and assign it to a variable called sales_data.\n",
        "2. Load the customer data using pandas read_csv function and assign it to a variable called customer_data.\n",
        "\n",
        "**Note: Both CSV files are located in the same directory as this Jupyter notebook.**"
      ]
    },
    {
      "cell_type": "code",
      "execution_count": null,
      "id": "9c7bf702",
      "metadata": {
        "id": "9c7bf702"
      },
      "outputs": [],
      "source": []
    },
    {
      "cell_type": "code",
      "execution_count": null,
      "id": "571ca24b",
      "metadata": {
        "id": "571ca24b"
      },
      "outputs": [],
      "source": []
    },
    {
      "cell_type": "markdown",
      "id": "1d08562b",
      "metadata": {
        "id": "1d08562b"
      },
      "source": [
        "### Part 2: Data Exploration\n",
        "In this exercise, we will explore the two datasets that we loaded in Part 1."
      ]
    },
    {
      "cell_type": "markdown",
      "id": "b98d39bb",
      "metadata": {
        "id": "b98d39bb"
      },
      "source": [
        "- Check the shape of both dataframes. How many rows and columns do they have?"
      ]
    },
    {
      "cell_type": "code",
      "execution_count": null,
      "id": "9cd20e4a",
      "metadata": {
        "id": "9cd20e4a"
      },
      "outputs": [],
      "source": []
    },
    {
      "cell_type": "markdown",
      "id": "64a04c86",
      "metadata": {
        "id": "64a04c86"
      },
      "source": [
        "- Print the first 5 rows of both datasets."
      ]
    },
    {
      "cell_type": "code",
      "execution_count": null,
      "id": "6ca2ebc0",
      "metadata": {
        "id": "6ca2ebc0"
      },
      "outputs": [],
      "source": []
    },
    {
      "cell_type": "markdown",
      "id": "0a0a6c08",
      "metadata": {
        "id": "0a0a6c08"
      },
      "source": [
        "- Use the describe method to generate basic summary statistics for the sales_data DataFrame.\n"
      ]
    },
    {
      "cell_type": "code",
      "execution_count": null,
      "id": "73a7d3a8",
      "metadata": {
        "id": "73a7d3a8"
      },
      "outputs": [],
      "source": []
    },
    {
      "cell_type": "markdown",
      "id": "2b84fd43",
      "metadata": {
        "id": "2b84fd43"
      },
      "source": [
        "- Use the groupby method to calculate the total sales amount and total units sold for each salesperson in the sales_data DataFrame."
      ]
    },
    {
      "cell_type": "code",
      "execution_count": null,
      "id": "a14571e0",
      "metadata": {
        "id": "a14571e0"
      },
      "outputs": [],
      "source": []
    },
    {
      "cell_type": "markdown",
      "id": "78dd23eb",
      "metadata": {
        "id": "78dd23eb"
      },
      "source": [
        "- Use the groupby method to calculate the total sales amount and total units sold for each product in the sales_data DataFrame."
      ]
    },
    {
      "cell_type": "code",
      "execution_count": null,
      "id": "580a3220",
      "metadata": {
        "id": "580a3220"
      },
      "outputs": [],
      "source": []
    },
    {
      "cell_type": "markdown",
      "id": "1efb8117",
      "metadata": {
        "id": "1efb8117"
      },
      "source": [
        "- Use the merge method to merge the sales_data and customer_data DataFrames on the salesperson column. How many rows and columns does the resulting DataFrame have?"
      ]
    },
    {
      "cell_type": "code",
      "execution_count": null,
      "id": "f263f2c4",
      "metadata": {
        "id": "f263f2c4"
      },
      "outputs": [],
      "source": []
    },
    {
      "cell_type": "markdown",
      "id": "40be345a",
      "metadata": {
        "id": "40be345a"
      },
      "source": [
        "- Use the groupby method to calculate the total sales amount and total units sold for each customer in the merged DataFrame."
      ]
    },
    {
      "cell_type": "code",
      "execution_count": null,
      "id": "1a6b7f90",
      "metadata": {
        "id": "1a6b7f90"
      },
      "outputs": [],
      "source": []
    },
    {
      "cell_type": "markdown",
      "id": "b1cbbd93",
      "metadata": {
        "id": "b1cbbd93"
      },
      "source": [
        "### Part 3: Data Cleaning\n",
        "In this exercise, we will clean the sales_data dataframe."
      ]
    },
    {
      "cell_type": "markdown",
      "id": "58a4967a",
      "metadata": {
        "id": "58a4967a"
      },
      "source": [
        "- Identify any missing values in the sales_data DataFrame. If there are any, fill them in with appropriate values."
      ]
    },
    {
      "cell_type": "code",
      "execution_count": null,
      "id": "388351c6",
      "metadata": {
        "id": "388351c6"
      },
      "outputs": [],
      "source": []
    },
    {
      "cell_type": "markdown",
      "id": "6340fad7",
      "metadata": {
        "id": "6340fad7"
      },
      "source": [
        "- Identify and remove any duplicates in the sales_data DataFrame."
      ]
    },
    {
      "cell_type": "code",
      "execution_count": null,
      "id": "c39ee92a",
      "metadata": {
        "id": "c39ee92a"
      },
      "outputs": [],
      "source": []
    },
    {
      "cell_type": "markdown",
      "id": "e44d04b5",
      "metadata": {
        "id": "e44d04b5"
      },
      "source": [
        "- Identify any missing values in the customer_data DataFrame. If there are any, fill them in with appropriate values."
      ]
    },
    {
      "cell_type": "code",
      "execution_count": null,
      "id": "6309eecc",
      "metadata": {
        "id": "6309eecc"
      },
      "outputs": [],
      "source": []
    },
    {
      "cell_type": "markdown",
      "id": "b6d6ef88",
      "metadata": {
        "id": "b6d6ef88"
      },
      "source": [
        "- Identify and remove any duplicates in the customer_data DataFrame."
      ]
    },
    {
      "cell_type": "code",
      "execution_count": null,
      "id": "5fa4c54e",
      "metadata": {
        "id": "5fa4c54e"
      },
      "outputs": [],
      "source": []
    },
    {
      "cell_type": "markdown",
      "id": "860b2390",
      "metadata": {
        "id": "860b2390"
      },
      "source": [
        "### Part 4: Data Transformation"
      ]
    },
    {
      "cell_type": "markdown",
      "id": "999f9134",
      "metadata": {
        "id": "999f9134"
      },
      "source": [
        "- Create a new column in the sales_data DataFrame called total_sales that is the product of the units_sold and sales_amount columns."
      ]
    },
    {
      "cell_type": "code",
      "execution_count": null,
      "id": "a3ffa703",
      "metadata": {
        "id": "a3ffa703"
      },
      "outputs": [],
      "source": []
    },
    {
      "cell_type": "markdown",
      "id": "6df4106b",
      "metadata": {
        "id": "6df4106b"
      },
      "source": [
        "- Create a new column in the sales_data DataFrame called year that is the year of the date column."
      ]
    },
    {
      "cell_type": "code",
      "execution_count": null,
      "id": "7a790ff4",
      "metadata": {
        "id": "7a790ff4"
      },
      "outputs": [],
      "source": []
    },
    {
      "cell_type": "markdown",
      "id": "d960add3",
      "metadata": {
        "id": "d960add3"
      },
      "source": [
        "- Create a new DataFrame called sales_by_state that shows the total sales amount and total units sold for each state in the customer_data DataFrame."
      ]
    },
    {
      "cell_type": "code",
      "execution_count": null,
      "id": "364661ae",
      "metadata": {
        "id": "364661ae"
      },
      "outputs": [],
      "source": []
    },
    {
      "cell_type": "markdown",
      "id": "fc4746ba",
      "metadata": {
        "id": "fc4746ba"
      },
      "source": [
        "- Create a new DataFrame called sales_by_month that shows the total sales amount and total units sold for each month in the sales_data DataFrame."
      ]
    },
    {
      "cell_type": "code",
      "execution_count": null,
      "id": "12733465",
      "metadata": {
        "id": "12733465"
      },
      "outputs": [],
      "source": []
    },
    {
      "cell_type": "markdown",
      "id": "6f0e1936",
      "metadata": {
        "id": "6f0e1936"
      },
      "source": [
        "### Part 5: Data Visualization"
      ]
    },
    {
      "cell_type": "markdown",
      "id": "6821c2ac",
      "metadata": {
        "id": "6821c2ac"
      },
      "source": [
        "- Use the plot method to create a bar chart showing the total sales amount for each salesperson in the sales_data DataFrame."
      ]
    },
    {
      "cell_type": "code",
      "execution_count": null,
      "id": "756c8dbb",
      "metadata": {
        "id": "756c8dbb"
      },
      "outputs": [],
      "source": []
    },
    {
      "cell_type": "markdown",
      "id": "316f0594",
      "metadata": {
        "id": "316f0594"
      },
      "source": [
        "- Use the plot method to create a bar chart showing the total sales amount for each product in the sales_data DataFrame."
      ]
    },
    {
      "cell_type": "code",
      "execution_count": null,
      "id": "95ffc5cf",
      "metadata": {
        "id": "95ffc5cf"
      },
      "outputs": [],
      "source": []
    },
    {
      "cell_type": "markdown",
      "id": "54df603a",
      "metadata": {
        "id": "54df603a"
      },
      "source": [
        "- Use the plot method to create a bar chart showing the total sales amount for each state in the customer_data DataFrame."
      ]
    },
    {
      "cell_type": "code",
      "execution_count": null,
      "id": "c8effd73",
      "metadata": {
        "id": "c8effd73"
      },
      "outputs": [],
      "source": []
    }
  ],
  "metadata": {
    "kernelspec": {
      "display_name": "Python 3 (ipykernel)",
      "language": "python",
      "name": "python3"
    },
    "language_info": {
      "codemirror_mode": {
        "name": "ipython",
        "version": 3
      },
      "file_extension": ".py",
      "mimetype": "text/x-python",
      "name": "python",
      "nbconvert_exporter": "python",
      "pygments_lexer": "ipython3",
      "version": "3.8.10"
    },
    "colab": {
      "provenance": [],
      "include_colab_link": true
    }
  },
  "nbformat": 4,
  "nbformat_minor": 5
}